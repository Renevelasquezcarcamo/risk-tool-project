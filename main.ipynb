{
 "cells": [
  {
   "cell_type": "code",
   "execution_count": 1,
   "outputs": [],
   "source": [
    "import re\n",
    "from re import search\n",
    "from nltk.corpus import stopwords\n",
    "import string\n",
    "import pandas as pd\n",
    "pd.options.mode.chained_assignment = None  # default='warn'\n",
    "# from pysentimiento import create_analyzer\n",
    "# from pysentimiento.preprocessing import preprocess_tweet\n",
    "# sentiment_analyzer = create_analyzer(task=\"sentiment\", lang=\"es\")\n",
    "# emotion_analyzer = create_analyzer(task=\"emotion\", lang=\"es\")\n",
    "# hate_analyzer = create_analyzer(task=\"hate_speech\", lang=\"es\")\n",
    "# from unidecode import unidecode"
   ],
   "metadata": {
    "collapsed": false,
    "pycharm": {
     "name": "#%%\n"
    }
   }
  },
  {
   "cell_type": "code",
   "execution_count": 2,
   "outputs": [
    {
     "ename": "ModuleNotFoundError",
     "evalue": "No module named 'transformers'",
     "output_type": "error",
     "traceback": [
      "\u001B[0;31m---------------------------------------------------------------------------\u001B[0m",
      "\u001B[0;31mModuleNotFoundError\u001B[0m                       Traceback (most recent call last)",
      "Cell \u001B[0;32mIn [2], line 1\u001B[0m\n\u001B[0;32m----> 1\u001B[0m \u001B[38;5;28;01mfrom\u001B[39;00m \u001B[38;5;21;01mtransformers\u001B[39;00m \u001B[38;5;28;01mimport\u001B[39;00m AutoTokenizer, AutoModelForSequenceClassification\n\u001B[1;32m      3\u001B[0m tokenizer \u001B[38;5;241m=\u001B[39m AutoTokenizer\u001B[38;5;241m.\u001B[39mfrom_pretrained(\u001B[38;5;124m\"\u001B[39m\u001B[38;5;124mpysentimiento/robertuito-sentiment-analysis\u001B[39m\u001B[38;5;124m\"\u001B[39m)\n\u001B[1;32m      5\u001B[0m model \u001B[38;5;241m=\u001B[39m AutoModelForSequenceClassification\u001B[38;5;241m.\u001B[39mfrom_pretrained(\u001B[38;5;124m\"\u001B[39m\u001B[38;5;124mpysentimiento/robertuito-sentiment-analysis\u001B[39m\u001B[38;5;124m\"\u001B[39m)\n",
      "\u001B[0;31mModuleNotFoundError\u001B[0m: No module named 'transformers'"
     ]
    }
   ],
   "source": [
    "from transformers import AutoTokenizer, AutoModelForSequenceClassification\n",
    "\n",
    "tokenizer = AutoTokenizer.from_pretrained(\"pysentimiento/robertuito-sentiment-analysis\")\n",
    "\n",
    "model = AutoModelForSequenceClassification.from_pretrained(\"pysentimiento/robertuito-sentiment-analysis\")"
   ],
   "metadata": {
    "collapsed": false,
    "pycharm": {
     "name": "#%%\n"
    }
   }
  },
  {
   "cell_type": "code",
   "execution_count": null,
   "outputs": [],
   "source": [
    "df = pd.read_excel('data/export1.xlsx')"
   ],
   "metadata": {
    "collapsed": false,
    "pycharm": {
     "name": "#%%\n"
    }
   }
  },
  {
   "cell_type": "code",
   "execution_count": null,
   "outputs": [],
   "source": [
    "df['date'] = pd.to_datetime(df['fecha'])\n",
    "df['hour'] = df['date'].dt.hour\n",
    "df['date2'] = df['date'].dt.date\n",
    "df = df[['texto', 'date2', 'hour']]\n",
    "df.columns = ['tweet', 'date', 'hour']"
   ],
   "metadata": {
    "collapsed": false,
    "pycharm": {
     "name": "#%%\n"
    }
   }
  },
  {
   "cell_type": "code",
   "execution_count": null,
   "outputs": [],
   "source": [
    "name = 'Mall_Plaza'\n",
    "df_tweets = df\n",
    "df_tweets"
   ],
   "metadata": {
    "collapsed": false,
    "pycharm": {
     "name": "#%%\n"
    }
   }
  },
  {
   "cell_type": "code",
   "execution_count": null,
   "outputs": [],
   "source": [
    "def gen_df(df, text, location, date, user):\n",
    "    df['tweet'] = df[text].astype(str)\n",
    "    column_list = ['tweet']\n",
    "    if location != \"\":\n",
    "        df['location'] = df[location].astype(str)\n",
    "        column_list.append('location')\n",
    "    if date != \"\":\n",
    "        df['date'] = df[date]\n",
    "        column_list.append('date')\n",
    "    if user != \"\":\n",
    "        df['user'] = df[user].astype(str)\n",
    "        column_list.append('user')\n",
    "    df_tweets = df[column_list]\n",
    "    return df_tweets\n",
    "\n",
    "# name = 'Lavin'\n",
    "# df_tweets_muni = pd.read_csv(\"data//rs_dat.csv\") #Lavin #text #no location #no date\n",
    "# df_tweets = gen_df(df_tweets_muni, 'text', '', '', '') #Lavin\n",
    "\n",
    "name = 'Generadoras2'\n",
    "df_tweets_muni = pd.read_csv(\"data//TweetsGeneradoras.csv\") #Generadoras2\n",
    "df_tweets = gen_df(df_tweets_muni, 'texto_1', 'localizacion1', 'fecha', 'usuario') #Generadoras2\n",
    "\n",
    "# name = 'Generadoras'\n",
    "# df_tweets_muni = pd.read_csv(\"data//tweets_generadoras.csv\") #Generadoras\n",
    "# df_tweets = gen_df(df_tweets_muni, 'texto_1', 'localizacion1', 'fecha', 'usuario') #Generadoras\n",
    "\n",
    "# name = 'Alto_Maipo'\n",
    "# df_tweets_muni = pd.read_csv(\"data//rs_tweets.csv\") #Alto Maipo\n",
    "# df_tweets = gen_df(df_tweets_muni, 'strtext', 'user_location', 'created_at', 'user_name') #Alto Maipo\n",
    "\n",
    "# name = 'Codelco'\n",
    "# df_tweets_muni = pd.read_csv(\"data//rs_codelco_tweets.csv\") #Codelco\n",
    "# df_tweets = gen_df(df_tweets_muni, 'strtext', 'user_location', 'created_at', 'user_name') #Codelco\n",
    "\n",
    "# len(df_tweets)"
   ],
   "metadata": {
    "collapsed": false,
    "pycharm": {
     "name": "#%%\n"
    }
   }
  },
  {
   "cell_type": "code",
   "execution_count": null,
   "outputs": [],
   "source": [
    "# Cargar stopwords en español\n",
    "stopwords_es = stopwords.words('spanish')\n",
    "\n",
    "\"\"\"\n",
    "Excluir menciones, emails, URLs y simbolos\n",
    "\"\"\"\n",
    "def clean_tweet(tweet):\n",
    "    # Convertir a minusculas\n",
    "    tweet = tweet.lower()\n",
    "\n",
    "    # Excluir menciones o emails\n",
    "    tweet = re.sub(r'\\w*@(\\w+\\.*\\w+\\.*\\w+)',' ', tweet)\n",
    "\n",
    "    # Excluir simbolos\n",
    "    tweet = tweet.translate(str.maketrans('', '', string.punctuation))\n",
    "\n",
    "    # Excluir URLs\n",
    "    tweet = re.sub(r'(?:www\\.|https?)[^\\s]+', ' ', tweet, flags=re.MULTILINE)\n",
    "\n",
    "    # Borrar espacios\n",
    "    tweet = tweet.strip()\n",
    "\n",
    "    # Considerar solo valores alfa numericos\n",
    "    tweet_alfa = re.compile(\"^(?![0-9]*$)[a-zA-Z0-9]+$\")\n",
    "\n",
    "    # Eliminar stopwords y palabras con longitud <= 2\n",
    "    tokens = tweet.split()\n",
    "    text = [token for token in tokens if token not in stopwords_es and len(token)>2 and tweet_alfa.match(token)]\n",
    "    return ' '.join(text)\n",
    "\n",
    "# Aplicar filtro a tweets\n",
    "df_tweets['tweet_cleaned'] = df_tweets['tweet'].apply(lambda x: clean_tweet(str(x)))\n",
    "df_tweets['tweet_cleaned'] = df_tweets['tweet_cleaned'].apply(lambda x: preprocess_tweet(x))"
   ],
   "metadata": {
    "collapsed": false,
    "pycharm": {
     "name": "#%%\n"
    }
   }
  },
  {
   "cell_type": "code",
   "execution_count": null,
   "outputs": [],
   "source": [
    "#Identificación de subtemas dentro de los temas\n",
    "df_topic = pd.read_excel(\"risk.xlsx\", sheet_name=\"versión 3\")\n",
    "df_filtro = df_topic.loc[0,:].reset_index()\n",
    "df_filtro.columns = ['tema', 'subtema']\n",
    "tema = df_filtro.tema.to_list()\n",
    "for i, t in enumerate(tema):\n",
    "    if 'Unnamed:' in t:\n",
    "        tema[i] = tema[i-1]\n",
    "df_filtro.tema = tema\n",
    "df_filtro = df_filtro.dropna()"
   ],
   "metadata": {
    "collapsed": false,
    "pycharm": {
     "name": "#%%\n"
    }
   }
  },
  {
   "cell_type": "code",
   "execution_count": null,
   "outputs": [],
   "source": [
    "#Identificación de palabras clave por subtema\n",
    "df_topic = pd.read_excel(\"risk.xlsx\", sheet_name=\"versión 3\", header=[1])\n",
    "for i in range(len(df_topic.columns)):\n",
    "    subtema = (df_topic.columns[i])\n",
    "    words = df_topic[df_topic.columns[i]].dropna().to_list()\n",
    "    words = [w.lower() for w in words]\n",
    "    pattern = '|'.join(words)\n",
    "    topic = df_filtro[df_filtro['subtema'] == str(subtema)].tema.to_list()[0]\n",
    "    column_name = 'isin_' + str(df_topic.columns[i]) + '_' + str(topic)\n",
    "    df_tweets[column_name] = df_tweets['tweet_cleaned'].str.contains(pattern)"
   ],
   "metadata": {
    "collapsed": false,
    "pycharm": {
     "name": "#%%\n"
    }
   }
  },
  {
   "cell_type": "code",
   "execution_count": null,
   "outputs": [],
   "source": [
    "#Identificar los temas mencionados en los tweets de acuerdo a palabras clave\n",
    "columns = df_tweets.columns\n",
    "columns_subtopic = [lis for lis in columns if 'isin' in lis]\n",
    "is_relevant = []\n",
    "for i in range(len(df_tweets)):\n",
    "    is_relevant.append(any(df_tweets[columns_subtopic].loc[i,:].to_list()))\n",
    "df_tweets['relevant'] = is_relevant"
   ],
   "metadata": {
    "collapsed": false,
    "pycharm": {
     "name": "#%%\n"
    }
   }
  },
  {
   "cell_type": "code",
   "execution_count": null,
   "outputs": [],
   "source": [
    "#Identificación de sentimiento\n",
    "df_tweets['sentiment'] = df_tweets['tweet_cleaned'].apply(lambda x: sentiment_analyzer.predict(x).output)\n",
    "# df_tweets['hate'] = df_tweets['tweet_cleaned'].apply(lambda x: hate_analyzer.predict(x).output)"
   ],
   "metadata": {
    "collapsed": false,
    "pycharm": {
     "name": "#%%\n"
    }
   }
  },
  {
   "cell_type": "code",
   "execution_count": null,
   "outputs": [],
   "source": [
    "#Identificación de emoción\n",
    "df_tweets['emotion'] = df_tweets['tweet_cleaned'].apply(lambda x: emotion_analyzer.predict(x).output)"
   ],
   "metadata": {
    "collapsed": false,
    "pycharm": {
     "name": "#%%\n"
    }
   }
  },
  {
   "cell_type": "code",
   "execution_count": null,
   "outputs": [],
   "source": [
    "#Generar un dataframe por subtema\n",
    "sentiment_options = ['POS', 'NEG', 'NEU']\n",
    "sentiment_list = []\n",
    "for subtopic in columns_subtopic:\n",
    "    aux = df_tweets[df_tweets[subtopic]==True].sentiment.value_counts().reindex(sentiment_options).fillna(0).to_list()\n",
    "    sentiment_list.append(aux)\n",
    "df_subtema = pd.DataFrame(sentiment_list, index = columns_subtopic, columns = sentiment_options).reset_index()\n",
    "df_subtema[['aux', 'subtema', 'tema']] = df_subtema['index'].str.split('_', expand=True)"
   ],
   "metadata": {
    "collapsed": false,
    "pycharm": {
     "name": "#%%\n"
    }
   }
  },
  {
   "cell_type": "code",
   "execution_count": null,
   "outputs": [],
   "source": [
    "#Generar un dataframe de tema y el indice de positividad o negatividad\n",
    "df_tema = df_subtema.groupby(['tema']).sum()\n",
    "df_tema['Total']= df_tema[sentiment_options].sum(axis=1)\n",
    "df_tema['pos_index'] = df_tema.POS / df_tema.Total\n",
    "df_tema['neg_index'] = df_tema.NEG / df_tema.Total\n",
    "df_tema = df_tema.transpose().reset_index()"
   ],
   "metadata": {
    "collapsed": false,
    "pycharm": {
     "name": "#%%\n"
    }
   }
  },
  {
   "cell_type": "code",
   "execution_count": null,
   "outputs": [],
   "source": [
    "def remove_accents(a):\n",
    "    return unidecode.unidecode(a.decode('utf-8'))"
   ],
   "metadata": {
    "collapsed": false,
    "pycharm": {
     "name": "#%%\n"
    }
   }
  },
  {
   "cell_type": "code",
   "execution_count": null,
   "outputs": [],
   "source": [
    "#Normalizar ubicación\n",
    "df_tweets['location_clean'] = df_tweets['location'].apply(lambda x: preprocess_tweet(x))\n",
    "df_tweets['location_clean'] = df_tweets['location_clean'].str.lower()\n",
    "df_tweets['location_clean'] = df_tweets['location_clean'].str.normalize('NFKD').str.encode('ascii', errors='ignore').str.decode('utf-8')"
   ],
   "metadata": {
    "collapsed": false,
    "pycharm": {
     "name": "#%%\n"
    }
   }
  },
  {
   "cell_type": "code",
   "execution_count": null,
   "outputs": [],
   "source": [
    "#Obtener Región si se menciona a una comuna asociada\n",
    "df_location = pd.read_csv('locations.csv', sep = \";\")\n",
    "df_location['comuna'] = df_location['comuna'].str.normalize('NFKD').str.encode('ascii',errors='ignore').str.decode('utf-8')\n",
    "\n",
    "df_aux = df_location.groupby('región')['comuna'].apply(lambda x: \"[%s]\" % ', '.join(x))\n",
    "def get_location(x):\n",
    "    j = 0\n",
    "    for i in range(len(df_aux)):\n",
    "        region = df_aux.index[i]\n",
    "        lista_comunas = df_aux[i].strip('][').split(', ')\n",
    "        for i,comuna in enumerate(lista_comunas):\n",
    "            if search(comuna, x):\n",
    "                j =+ 1\n",
    "                location = region\n",
    "                return location\n",
    "df_tweets['region'] = df_tweets['location_clean'].apply(lambda x: get_location(x))"
   ],
   "metadata": {
    "collapsed": false,
    "pycharm": {
     "name": "#%%\n"
    }
   }
  },
  {
   "cell_type": "code",
   "execution_count": null,
   "outputs": [],
   "source": [
    "#Guardar los resultados en un csv\n",
    "folder = 'Results//'\n",
    "df_tweets.to_excel(folder + name + '_tweets.xlsx' , encoding='utf8', index=False)\n",
    "df_subtema.to_excel(folder + name + '_subtema.xlsx' , encoding='utf8', index=False)\n",
    "df_tema.to_excel(folder + name + '_tema.xlsx' , encoding='utf8', index=False)"
   ],
   "metadata": {
    "collapsed": false,
    "pycharm": {
     "name": "#%%\n"
    }
   }
  },
  {
   "cell_type": "code",
   "execution_count": null,
   "outputs": [],
   "source": [
    "df_tweets.groupby(['date', 'hour']).sum()"
   ],
   "metadata": {
    "collapsed": false,
    "pycharm": {
     "name": "#%%\n"
    }
   }
  },
  {
   "cell_type": "code",
   "execution_count": null,
   "outputs": [],
   "source": [
    "item = 'isin_Covid_Salud'\n",
    "sentiment_options = ['POS', 'NEG', 'NEU']\n",
    "df_aux = df_tweets[df_tweets[item] == True][['date', 'hour', 'sentiment']]\n",
    "df_aux['date'] = pd.to_datetime(df_aux['date'], format='%Y-%m-%d')\n",
    "df_aux['hour'] = pd.to_datetime(df_aux['hour'], format='%H')\n",
    "df_aux['time'] = pd.to_datetime(df_aux.date.astype(str) + ' ' + df_aux.hour.astype(str)).dt.strftime(\"%Y-%m-%d %H:%M:%S\")\n",
    "pd.get_dummies(df_aux, columns = ['sentiment']).groupby('time').sum()"
   ],
   "metadata": {
    "collapsed": false,
    "pycharm": {
     "name": "#%%\n"
    }
   }
  },
  {
   "cell_type": "code",
   "execution_count": null,
   "outputs": [],
   "source": [
    "#Generar un dataframe por subtema\n",
    "sentiment_options = ['POS', 'NEG', 'NEU']\n",
    "sentiment_list = []\n",
    "for subtopic in columns_subtopic:\n",
    "    aux = df_tweets[df_tweets[subtopic]==True].sentiment.value_counts().reindex(sentiment_options).fillna(0).to_list()\n",
    "    sentiment_list.append(aux)\n",
    "df_subtema = pd.DataFrame(sentiment_list, index = columns_subtopic, columns = sentiment_options).reset_index()\n",
    "df_subtema[['aux', 'subtema', 'tema']] = df_subtema['index'].str.split('_', expand=True)"
   ],
   "metadata": {
    "collapsed": false,
    "pycharm": {
     "name": "#%%\n"
    }
   }
  },
  {
   "cell_type": "code",
   "execution_count": null,
   "outputs": [],
   "source": [
    "df_subtema"
   ],
   "metadata": {
    "collapsed": false,
    "pycharm": {
     "name": "#%%\n"
    }
   }
  },
  {
   "cell_type": "code",
   "execution_count": null,
   "outputs": [],
   "source": [],
   "metadata": {
    "collapsed": false,
    "pycharm": {
     "name": "#%%\n"
    }
   }
  },
  {
   "cell_type": "code",
   "execution_count": null,
   "outputs": [],
   "source": [
    "df['date'] = pd.to_datetime(df['fecha'])\n",
    "df['hour'] = df['date'].dt.hour\n",
    "df['date2'] = df['date'].dt.date\n",
    "df = df[['texto', 'date2', 'hour']]\n",
    "df.columns = ['tweet', 'date', 'hour']"
   ],
   "metadata": {
    "collapsed": false,
    "pycharm": {
     "name": "#%%\n"
    }
   }
  },
  {
   "cell_type": "code",
   "execution_count": null,
   "outputs": [],
   "source": [
    "name = 'Mall_Plaza'\n",
    "df_tweets = df\n",
    "df_tweets"
   ],
   "metadata": {
    "collapsed": false,
    "pycharm": {
     "name": "#%%\n"
    }
   }
  },
  {
   "cell_type": "code",
   "execution_count": null,
   "outputs": [],
   "source": [
    "def gen_df(df, text, location, date, user):\n",
    "    df['tweet'] = df[text].astype(str)\n",
    "    column_list = ['tweet']\n",
    "    if location != \"\":\n",
    "        df['location'] = df[location].astype(str)\n",
    "        column_list.append('location')\n",
    "    if date != \"\":\n",
    "        df['date'] = df[date]\n",
    "        column_list.append('date')\n",
    "    if user != \"\":\n",
    "        df['user'] = df[user].astype(str)\n",
    "        column_list.append('user')\n",
    "    df_tweets = df[column_list]\n",
    "    return df_tweets\n",
    "\n",
    "# name = 'Lavin'\n",
    "# df_tweets_muni = pd.read_csv(\"data//rs_dat.csv\") #Lavin #text #no location #no date\n",
    "# df_tweets = gen_df(df_tweets_muni, 'text', '', '', '') #Lavin\n",
    "\n",
    "name = 'Generadoras2'\n",
    "df_tweets_muni = pd.read_csv(\"data//TweetsGeneradoras.csv\") #Generadoras2\n",
    "df_tweets = gen_df(df_tweets_muni, 'texto_1', 'localizacion1', 'fecha', 'usuario') #Generadoras2\n",
    "\n",
    "# name = 'Generadoras'\n",
    "# df_tweets_muni = pd.read_csv(\"data//tweets_generadoras.csv\") #Generadoras\n",
    "# df_tweets = gen_df(df_tweets_muni, 'texto_1', 'localizacion1', 'fecha', 'usuario') #Generadoras\n",
    "\n",
    "# name = 'Alto_Maipo'\n",
    "# df_tweets_muni = pd.read_csv(\"data//rs_tweets.csv\") #Alto Maipo\n",
    "# df_tweets = gen_df(df_tweets_muni, 'strtext', 'user_location', 'created_at', 'user_name') #Alto Maipo\n",
    "\n",
    "# name = 'Codelco'\n",
    "# df_tweets_muni = pd.read_csv(\"data//rs_codelco_tweets.csv\") #Codelco\n",
    "# df_tweets = gen_df(df_tweets_muni, 'strtext', 'user_location', 'created_at', 'user_name') #Codelco\n",
    "\n",
    "# len(df_tweets)"
   ],
   "metadata": {
    "collapsed": false,
    "pycharm": {
     "name": "#%%\n"
    }
   }
  },
  {
   "cell_type": "code",
   "execution_count": null,
   "outputs": [],
   "source": [
    "# Cargar stopwords en español\n",
    "stopwords_es = stopwords.words('spanish')\n",
    "\n",
    "\"\"\"\n",
    "Excluir menciones, emails, URLs y simbolos\n",
    "\"\"\"\n",
    "def clean_tweet(tweet):\n",
    "    # Convertir a minusculas\n",
    "    tweet = tweet.lower()\n",
    "\n",
    "    # Excluir menciones o emails\n",
    "    tweet = re.sub(r'\\w*@(\\w+\\.*\\w+\\.*\\w+)',' ', tweet)\n",
    "\n",
    "    # Excluir simbolos\n",
    "    tweet = tweet.translate(str.maketrans('', '', string.punctuation))\n",
    "\n",
    "    # Excluir URLs\n",
    "    tweet = re.sub(r'(?:www\\.|https?)[^\\s]+', ' ', tweet, flags=re.MULTILINE)\n",
    "\n",
    "    # Borrar espacios\n",
    "    tweet = tweet.strip()\n",
    "\n",
    "    # Considerar solo valores alfa numericos\n",
    "    tweet_alfa = re.compile(\"^(?![0-9]*$)[a-zA-Z0-9]+$\")\n",
    "\n",
    "    # Eliminar stopwords y palabras con longitud <= 2\n",
    "    tokens = tweet.split()\n",
    "    text = [token for token in tokens if token not in stopwords_es and len(token)>2 and tweet_alfa.match(token)]\n",
    "    return ' '.join(text)\n",
    "\n",
    "# Aplicar filtro a tweets\n",
    "df_tweets['tweet_cleaned'] = df_tweets['tweet'].apply(lambda x: clean_tweet(str(x)))\n",
    "df_tweets['tweet_cleaned'] = df_tweets['tweet_cleaned'].apply(lambda x: preprocess_tweet(x))"
   ],
   "metadata": {
    "collapsed": false,
    "pycharm": {
     "name": "#%%\n"
    }
   }
  },
  {
   "cell_type": "code",
   "execution_count": null,
   "outputs": [],
   "source": [
    "#Identificación de subtemas dentro de los temas\n",
    "df_topic = pd.read_excel(\"risk.xlsx\", sheet_name=\"versión 3\")\n",
    "df_filtro = df_topic.loc[0,:].reset_index()\n",
    "df_filtro.columns = ['tema', 'subtema']\n",
    "tema = df_filtro.tema.to_list()\n",
    "for i, t in enumerate(tema):\n",
    "    if 'Unnamed:' in t:\n",
    "        tema[i] = tema[i-1]\n",
    "df_filtro.tema = tema\n",
    "df_filtro = df_filtro.dropna()"
   ],
   "metadata": {
    "collapsed": false,
    "pycharm": {
     "name": "#%%\n"
    }
   }
  },
  {
   "cell_type": "code",
   "execution_count": null,
   "outputs": [],
   "source": [
    "#Identificación de palabras clave por subtema\n",
    "df_topic = pd.read_excel(\"risk.xlsx\", sheet_name=\"versión 3\", header=[1])\n",
    "for i in range(len(df_topic.columns)):\n",
    "    subtema = (df_topic.columns[i])\n",
    "    words = df_topic[df_topic.columns[i]].dropna().to_list()\n",
    "    words = [w.lower() for w in words]\n",
    "    pattern = '|'.join(words)\n",
    "    topic = df_filtro[df_filtro['subtema'] == str(subtema)].tema.to_list()[0]\n",
    "    column_name = 'isin_' + str(df_topic.columns[i]) + '_' + str(topic)\n",
    "    df_tweets[column_name] = df_tweets['tweet_cleaned'].str.contains(pattern)"
   ],
   "metadata": {
    "collapsed": false,
    "pycharm": {
     "name": "#%%\n"
    }
   }
  },
  {
   "cell_type": "code",
   "execution_count": null,
   "outputs": [],
   "source": [
    "#Identificar los temas mencionados en los tweets de acuerdo a palabras clave\n",
    "columns = df_tweets.columns\n",
    "columns_subtopic = [lis for lis in columns if 'isin' in lis]\n",
    "is_relevant = []\n",
    "for i in range(len(df_tweets)):\n",
    "    is_relevant.append(any(df_tweets[columns_subtopic].loc[i,:].to_list()))\n",
    "df_tweets['relevant'] = is_relevant"
   ],
   "metadata": {
    "collapsed": false,
    "pycharm": {
     "name": "#%%\n"
    }
   }
  },
  {
   "cell_type": "code",
   "execution_count": null,
   "outputs": [],
   "source": [
    "#Identificación de sentimiento\n",
    "df_tweets['sentiment'] = df_tweets['tweet_cleaned'].apply(lambda x: sentiment_analyzer.predict(x).output)\n",
    "# df_tweets['hate'] = df_tweets['tweet_cleaned'].apply(lambda x: hate_analyzer.predict(x).output)"
   ],
   "metadata": {
    "collapsed": false,
    "pycharm": {
     "name": "#%%\n"
    }
   }
  },
  {
   "cell_type": "code",
   "execution_count": null,
   "outputs": [],
   "source": [
    "#Identificación de emoción\n",
    "df_tweets['emotion'] = df_tweets['tweet_cleaned'].apply(lambda x: emotion_analyzer.predict(x).output)"
   ],
   "metadata": {
    "collapsed": false,
    "pycharm": {
     "name": "#%%\n"
    }
   }
  },
  {
   "cell_type": "code",
   "execution_count": null,
   "outputs": [],
   "source": [
    "#Generar un dataframe por subtema\n",
    "sentiment_options = ['POS', 'NEG', 'NEU']\n",
    "sentiment_list = []\n",
    "for subtopic in columns_subtopic:\n",
    "    aux = df_tweets[df_tweets[subtopic]==True].sentiment.value_counts().reindex(sentiment_options).fillna(0).to_list()\n",
    "    sentiment_list.append(aux)\n",
    "df_subtema = pd.DataFrame(sentiment_list, index = columns_subtopic, columns = sentiment_options).reset_index()\n",
    "df_subtema[['aux', 'subtema', 'tema']] = df_subtema['index'].str.split('_', expand=True)"
   ],
   "metadata": {
    "collapsed": false,
    "pycharm": {
     "name": "#%%\n"
    }
   }
  },
  {
   "cell_type": "code",
   "execution_count": null,
   "outputs": [],
   "source": [
    "#Generar un dataframe de tema y el indice de positividad o negatividad\n",
    "df_tema = df_subtema.groupby(['tema']).sum()\n",
    "df_tema['Total']= df_tema[sentiment_options].sum(axis=1)\n",
    "df_tema['pos_index'] = df_tema.POS / df_tema.Total\n",
    "df_tema['neg_index'] = df_tema.NEG / df_tema.Total\n",
    "df_tema = df_tema.transpose().reset_index()"
   ],
   "metadata": {
    "collapsed": false,
    "pycharm": {
     "name": "#%%\n"
    }
   }
  },
  {
   "cell_type": "code",
   "execution_count": null,
   "outputs": [],
   "source": [
    "def remove_accents(a):\n",
    "    return unidecode.unidecode(a.decode('utf-8'))"
   ],
   "metadata": {
    "collapsed": false,
    "pycharm": {
     "name": "#%%\n"
    }
   }
  },
  {
   "cell_type": "code",
   "execution_count": null,
   "outputs": [],
   "source": [
    "#Normalizar ubicación\n",
    "df_tweets['location_clean'] = df_tweets['location'].apply(lambda x: preprocess_tweet(x))\n",
    "df_tweets['location_clean'] = df_tweets['location_clean'].str.lower()\n",
    "df_tweets['location_clean'] = df_tweets['location_clean'].str.normalize('NFKD').str.encode('ascii', errors='ignore').str.decode('utf-8')"
   ],
   "metadata": {
    "collapsed": false,
    "pycharm": {
     "name": "#%%\n"
    }
   }
  },
  {
   "cell_type": "code",
   "execution_count": null,
   "outputs": [],
   "source": [
    "#Obtener Región si se menciona a una comuna asociada\n",
    "df_location = pd.read_csv('locations.csv', sep = \";\")\n",
    "df_location['comuna'] = df_location['comuna'].str.normalize('NFKD').str.encode('ascii',errors='ignore').str.decode('utf-8')\n",
    "\n",
    "df_aux = df_location.groupby('región')['comuna'].apply(lambda x: \"[%s]\" % ', '.join(x))\n",
    "def get_location(x):\n",
    "    j = 0\n",
    "    for i in range(len(df_aux)):\n",
    "        region = df_aux.index[i]\n",
    "        lista_comunas = df_aux[i].strip('][').split(', ')\n",
    "        for i,comuna in enumerate(lista_comunas):\n",
    "            if search(comuna, x):\n",
    "                j =+ 1\n",
    "                location = region\n",
    "                return location\n",
    "df_tweets['region'] = df_tweets['location_clean'].apply(lambda x: get_location(x))"
   ],
   "metadata": {
    "collapsed": false,
    "pycharm": {
     "name": "#%%\n"
    }
   }
  },
  {
   "cell_type": "code",
   "execution_count": null,
   "outputs": [],
   "source": [
    "#Guardar los resultados en un csv\n",
    "folder = 'Results//'\n",
    "df_tweets.to_excel(folder + name + '_tweets.xlsx' , encoding='utf8', index=False)\n",
    "df_subtema.to_excel(folder + name + '_subtema.xlsx' , encoding='utf8', index=False)\n",
    "df_tema.to_excel(folder + name + '_tema.xlsx' , encoding='utf8', index=False)"
   ],
   "metadata": {
    "collapsed": false,
    "pycharm": {
     "name": "#%%\n"
    }
   }
  },
  {
   "cell_type": "code",
   "execution_count": null,
   "outputs": [],
   "source": [
    "df_tweets.groupby(['date', 'hour']).sum()"
   ],
   "metadata": {
    "collapsed": false,
    "pycharm": {
     "name": "#%%\n"
    }
   }
  },
  {
   "cell_type": "code",
   "execution_count": null,
   "outputs": [],
   "source": [
    "item = 'isin_Covid_Salud'\n",
    "sentiment_options = ['POS', 'NEG', 'NEU']\n",
    "df_aux = df_tweets[df_tweets[item] == True][['date', 'hour', 'sentiment']]\n",
    "df_aux['date'] = pd.to_datetime(df_aux['date'], format='%Y-%m-%d')\n",
    "df_aux['hour'] = pd.to_datetime(df_aux['hour'], format='%H')\n",
    "df_aux['time'] = pd.to_datetime(df_aux.date.astype(str) + ' ' + df_aux.hour.astype(str)).dt.strftime(\"%Y-%m-%d %H:%M:%S\")\n",
    "pd.get_dummies(df_aux, columns = ['sentiment']).groupby('time').sum()"
   ],
   "metadata": {
    "collapsed": false,
    "pycharm": {
     "name": "#%%\n"
    }
   }
  },
  {
   "cell_type": "code",
   "execution_count": null,
   "outputs": [],
   "source": [
    "#Generar un dataframe por subtema\n",
    "sentiment_options = ['POS', 'NEG', 'NEU']\n",
    "sentiment_list = []\n",
    "for subtopic in columns_subtopic:\n",
    "    aux = df_tweets[df_tweets[subtopic]==True].sentiment.value_counts().reindex(sentiment_options).fillna(0).to_list()\n",
    "    sentiment_list.append(aux)\n",
    "df_subtema = pd.DataFrame(sentiment_list, index = columns_subtopic, columns = sentiment_options).reset_index()\n",
    "df_subtema[['aux', 'subtema', 'tema']] = df_subtema['index'].str.split('_', expand=True)"
   ],
   "metadata": {
    "collapsed": false,
    "pycharm": {
     "name": "#%%\n"
    }
   }
  },
  {
   "cell_type": "code",
   "execution_count": null,
   "outputs": [],
   "source": [
    "df_subtema"
   ],
   "metadata": {
    "collapsed": false,
    "pycharm": {
     "name": "#%%\n"
    }
   }
  },
  {
   "cell_type": "code",
   "execution_count": null,
   "outputs": [],
   "source": [],
   "metadata": {
    "collapsed": false,
    "pycharm": {
     "name": "#%%\n"
    }
   }
  }
 ],
 "metadata": {
  "kernelspec": {
   "display_name": "Python 3",
   "language": "python",
   "name": "python3"
  },
  "language_info": {
   "codemirror_mode": {
    "name": "ipython",
    "version": 2
   },
   "file_extension": ".py",
   "mimetype": "text/x-python",
   "name": "python",
   "nbconvert_exporter": "python",
   "pygments_lexer": "ipython2",
   "version": "2.7.6"
  }
 },
 "nbformat": 4,
 "nbformat_minor": 0
}