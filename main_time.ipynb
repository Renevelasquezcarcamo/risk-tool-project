{
 "cells": [
  {
   "cell_type": "code",
   "execution_count": 2,
   "outputs": [
    {
     "ename": "ModuleNotFoundError",
     "evalue": "No module named 'pysentimiento'",
     "output_type": "error",
     "traceback": [
      "\u001B[0;31m---------------------------------------------------------------------------\u001B[0m",
      "\u001B[0;31mModuleNotFoundError\u001B[0m                       Traceback (most recent call last)",
      "Input \u001B[0;32mIn [2]\u001B[0m, in \u001B[0;36m<cell line: 7>\u001B[0;34m()\u001B[0m\n\u001B[1;32m      5\u001B[0m \u001B[38;5;28;01mimport\u001B[39;00m \u001B[38;5;21;01mpandas\u001B[39;00m \u001B[38;5;28;01mas\u001B[39;00m \u001B[38;5;21;01mpd\u001B[39;00m\n\u001B[1;32m      6\u001B[0m pd\u001B[38;5;241m.\u001B[39moptions\u001B[38;5;241m.\u001B[39mmode\u001B[38;5;241m.\u001B[39mchained_assignment \u001B[38;5;241m=\u001B[39m \u001B[38;5;28;01mNone\u001B[39;00m  \u001B[38;5;66;03m# default='warn'\u001B[39;00m\n\u001B[0;32m----> 7\u001B[0m \u001B[38;5;28;01mfrom\u001B[39;00m \u001B[38;5;21;01mpysentimiento\u001B[39;00m \u001B[38;5;28;01mimport\u001B[39;00m create_analyzer\n\u001B[1;32m      8\u001B[0m \u001B[38;5;28;01mfrom\u001B[39;00m \u001B[38;5;21;01mpysentimiento\u001B[39;00m\u001B[38;5;21;01m.\u001B[39;00m\u001B[38;5;21;01mpreprocessing\u001B[39;00m \u001B[38;5;28;01mimport\u001B[39;00m preprocess_tweet\n\u001B[1;32m      9\u001B[0m sentiment_analyzer \u001B[38;5;241m=\u001B[39m create_analyzer(task\u001B[38;5;241m=\u001B[39m\u001B[38;5;124m\"\u001B[39m\u001B[38;5;124msentiment\u001B[39m\u001B[38;5;124m\"\u001B[39m, lang\u001B[38;5;241m=\u001B[39m\u001B[38;5;124m\"\u001B[39m\u001B[38;5;124mes\u001B[39m\u001B[38;5;124m\"\u001B[39m)\n",
      "\u001B[0;31mModuleNotFoundError\u001B[0m: No module named 'pysentimiento'"
     ]
    }
   ],
   "source": [
    "import re\n",
    "from re import search\n",
    "from nltk.corpus import stopwords\n",
    "import string\n",
    "import pandas as pd\n",
    "pd.options.mode.chained_assignment = None  # default='warn'\n",
    "from pysentimiento import create_analyzer\n",
    "from pysentimiento.preprocessing import preprocess_tweet\n",
    "sentiment_analyzer = create_analyzer(task=\"sentiment\", lang=\"es\")\n",
    "# emotion_analyzer = create_analyzer(task=\"emotion\", lang=\"es\")\n",
    "# hate_analyzer = create_analyzer(task=\"hate_speech\", lang=\"es\")\n",
    "from unidecode import unidecode"
   ],
   "metadata": {
    "collapsed": false,
    "pycharm": {
     "name": "#%%\n"
    }
   }
  },
  {
   "cell_type": "code",
   "execution_count": 2,
   "outputs": [
    {
     "data": {
      "text/plain": "                                                   tweet        date  hour\n0      RT @CarlosVerareal: Quieren quebrar a todos lo...  2020-12-25    23\n1      RT @tanquedecasma: Normalicemos llamar Golpe d...  2020-12-25    23\n2      RT @PaoladrateleSUR: A sólo dos semanas del ci...  2020-12-25    23\n3      RT @HinterlacesNet: ✝️🛐 José Vicente Rangel: U...  2020-12-25    23\n4      RT @pescobio: Lo país lo pinta como una aventu...  2020-12-25    23\n...                                                  ...         ...   ...\n24995  RT @BCV_ORG_VE: Atención🔵|| El tipo de cambio ...  2020-12-23    21\n24996  RT @BCV_ORG_VE: Atención🔵|| El tipo de cambio ...  2020-12-23    21\n24997  RT @BCV_ORG_VE: Atención🔵|| El tipo de cambio ...  2020-12-23    21\n24998  🤩 ¡CIERRE DE LOCOS EN SAN SIRO! \\n\\n⚽ ¡THEO HE...  2020-12-23    21\n24999  RT @BCV_ORG_VE: Atención🔵|| El tipo de cambio ...  2020-12-23    21\n\n[25000 rows x 3 columns]",
      "text/html": "<div>\n<style scoped>\n    .dataframe tbody tr th:only-of-type {\n        vertical-align: middle;\n    }\n\n    .dataframe tbody tr th {\n        vertical-align: top;\n    }\n\n    .dataframe thead th {\n        text-align: right;\n    }\n</style>\n<table border=\"1\" class=\"dataframe\">\n  <thead>\n    <tr style=\"text-align: right;\">\n      <th></th>\n      <th>tweet</th>\n      <th>date</th>\n      <th>hour</th>\n    </tr>\n  </thead>\n  <tbody>\n    <tr>\n      <th>0</th>\n      <td>RT @CarlosVerareal: Quieren quebrar a todos lo...</td>\n      <td>2020-12-25</td>\n      <td>23</td>\n    </tr>\n    <tr>\n      <th>1</th>\n      <td>RT @tanquedecasma: Normalicemos llamar Golpe d...</td>\n      <td>2020-12-25</td>\n      <td>23</td>\n    </tr>\n    <tr>\n      <th>2</th>\n      <td>RT @PaoladrateleSUR: A sólo dos semanas del ci...</td>\n      <td>2020-12-25</td>\n      <td>23</td>\n    </tr>\n    <tr>\n      <th>3</th>\n      <td>RT @HinterlacesNet: ✝️🛐 José Vicente Rangel: U...</td>\n      <td>2020-12-25</td>\n      <td>23</td>\n    </tr>\n    <tr>\n      <th>4</th>\n      <td>RT @pescobio: Lo país lo pinta como una aventu...</td>\n      <td>2020-12-25</td>\n      <td>23</td>\n    </tr>\n    <tr>\n      <th>...</th>\n      <td>...</td>\n      <td>...</td>\n      <td>...</td>\n    </tr>\n    <tr>\n      <th>24995</th>\n      <td>RT @BCV_ORG_VE: Atención🔵|| El tipo de cambio ...</td>\n      <td>2020-12-23</td>\n      <td>21</td>\n    </tr>\n    <tr>\n      <th>24996</th>\n      <td>RT @BCV_ORG_VE: Atención🔵|| El tipo de cambio ...</td>\n      <td>2020-12-23</td>\n      <td>21</td>\n    </tr>\n    <tr>\n      <th>24997</th>\n      <td>RT @BCV_ORG_VE: Atención🔵|| El tipo de cambio ...</td>\n      <td>2020-12-23</td>\n      <td>21</td>\n    </tr>\n    <tr>\n      <th>24998</th>\n      <td>🤩 ¡CIERRE DE LOCOS EN SAN SIRO! \\n\\n⚽ ¡THEO HE...</td>\n      <td>2020-12-23</td>\n      <td>21</td>\n    </tr>\n    <tr>\n      <th>24999</th>\n      <td>RT @BCV_ORG_VE: Atención🔵|| El tipo de cambio ...</td>\n      <td>2020-12-23</td>\n      <td>21</td>\n    </tr>\n  </tbody>\n</table>\n<p>25000 rows × 3 columns</p>\n</div>"
     },
     "execution_count": 2,
     "metadata": {},
     "output_type": "execute_result"
    }
   ],
   "source": [
    "df = pd.read_excel('data/export1.xlsx')\n",
    "df['date'] = pd.to_datetime(df['fecha'])\n",
    "df['hour'] = df['date'].dt.hour\n",
    "df['date2'] = df['date'].dt.date\n",
    "df = df[['texto', 'date2', 'hour']]\n",
    "df.columns = ['tweet', 'date', 'hour']\n",
    "name = 'Mall_Plaza'\n",
    "df_tweets = df\n",
    "df_tweets"
   ],
   "metadata": {
    "collapsed": false,
    "pycharm": {
     "name": "#%%\n"
    }
   }
  },
  {
   "cell_type": "code",
   "execution_count": 3,
   "outputs": [],
   "source": [
    "# Cargar stopwords en español\n",
    "stopwords_es = stopwords.words('spanish')\n",
    "\n",
    "\"\"\"\n",
    "Excluir menciones, emails, URLs y simbolos\n",
    "\"\"\"\n",
    "def clean_tweet(tweet):\n",
    "    # Convertir a minusculas\n",
    "    tweet = tweet.lower()\n",
    "\n",
    "    # Excluir menciones o emails\n",
    "    tweet = re.sub(r'\\w*@(\\w+\\.*\\w+\\.*\\w+)',' ', tweet)\n",
    "\n",
    "    # Excluir simbolos\n",
    "    tweet = tweet.translate(str.maketrans('', '', string.punctuation))\n",
    "\n",
    "    # Excluir URLs\n",
    "    tweet = re.sub(r'(?:www\\.|https?)[^\\s]+', ' ', tweet, flags=re.MULTILINE)\n",
    "\n",
    "    # Borrar espacios\n",
    "    tweet = tweet.strip()\n",
    "\n",
    "    # Considerar solo valores alfa numericos\n",
    "    tweet_alfa = re.compile(\"^(?![0-9]*$)[a-zA-Z0-9]+$\")\n",
    "\n",
    "    # Eliminar stopwords y palabras con longitud <= 2\n",
    "    tokens = tweet.split()\n",
    "    text = [token for token in tokens if token not in stopwords_es and len(token)>2 and tweet_alfa.match(token)]\n",
    "    return ' '.join(text)\n",
    "\n",
    "# Aplicar filtro a tweets\n",
    "df_tweets['tweet_cleaned'] = df_tweets['tweet'].apply(lambda x: clean_tweet(str(x)))\n",
    "df_tweets['tweet_cleaned'] = df_tweets['tweet_cleaned'].apply(lambda x: preprocess_tweet(x))"
   ],
   "metadata": {
    "collapsed": false,
    "pycharm": {
     "name": "#%%\n"
    }
   }
  },
  {
   "cell_type": "code",
   "execution_count": 4,
   "outputs": [],
   "source": [
    "#Identificación de subtemas dentro de los temas\n",
    "df_topic = pd.read_excel(\"risk.xlsx\", sheet_name=\"versión 3\")\n",
    "df_filtro = df_topic.loc[0,:].reset_index()\n",
    "df_filtro.columns = ['tema', 'subtema']\n",
    "tema = df_filtro.tema.to_list()\n",
    "for i, t in enumerate(tema):\n",
    "    if 'Unnamed:' in t:\n",
    "        tema[i] = tema[i-1]\n",
    "df_filtro.tema = tema\n",
    "df_filtro = df_filtro.dropna()"
   ],
   "metadata": {
    "collapsed": false,
    "pycharm": {
     "name": "#%%\n"
    }
   }
  },
  {
   "cell_type": "code",
   "execution_count": 5,
   "outputs": [],
   "source": [
    "#Identificación de palabras clave por subtema\n",
    "df_topic = pd.read_excel(\"risk.xlsx\", sheet_name=\"versión 3\", header=[1])\n",
    "for i in range(len(df_topic.columns)):\n",
    "    subtema = (df_topic.columns[i])\n",
    "    words = df_topic[df_topic.columns[i]].dropna().to_list()\n",
    "    words = [w.lower() for w in words]\n",
    "    pattern = '|'.join(words)\n",
    "    topic = df_filtro[df_filtro['subtema'] == str(subtema)].tema.to_list()[0]\n",
    "    column_name = 'isin_' + str(df_topic.columns[i]) + '_' + str(topic)\n",
    "    df_tweets[column_name] = df_tweets['tweet_cleaned'].str.contains(pattern)"
   ],
   "metadata": {
    "collapsed": false,
    "pycharm": {
     "name": "#%%\n"
    }
   }
  },
  {
   "cell_type": "code",
   "execution_count": 6,
   "outputs": [],
   "source": [
    "#Identificar los temas mencionados en los tweets de acuerdo a palabras clave\n",
    "columns = df_tweets.columns\n",
    "columns_subtopic = [lis for lis in columns if 'isin' in lis]\n",
    "is_relevant = []\n",
    "for i in range(len(df_tweets)):\n",
    "    is_relevant.append(any(df_tweets[columns_subtopic].loc[i,:].to_list()))\n",
    "df_tweets['relevant'] = is_relevant"
   ],
   "metadata": {
    "collapsed": false,
    "pycharm": {
     "name": "#%%\n"
    }
   }
  },
  {
   "cell_type": "code",
   "execution_count": null,
   "outputs": [],
   "source": [
    "#Identificación de sentimiento\n",
    "df_tweets['sentiment'] = df_tweets['tweet_cleaned'].apply(lambda x: sentiment_analyzer.predict(x).output)\n",
    "# df_tweets['hate'] = df_tweets['tweet_cleaned'].apply(lambda x: hate_analyzer.predict(x).output)"
   ],
   "metadata": {
    "collapsed": false,
    "pycharm": {
     "name": "#%%\n"
    }
   }
  },
  {
   "cell_type": "code",
   "execution_count": null,
   "outputs": [],
   "source": [
    "item = 'isin_Covid_Salud'\n",
    "sentiment_options = ['POS', 'NEG', 'NEU']\n",
    "df_aux = df_tweets[df_tweets[item] == True][['date', 'hour', 'sentiment']]\n",
    "df_aux['date'] = pd.to_datetime(df_aux['date'], format='%Y-%m-%d')\n",
    "df_aux['hour'] = pd.to_datetime(df_aux['hour'], format='%H')\n",
    "df_aux['time'] = pd.to_datetime(df_aux.date.astype(str) + ' ' + df_aux.hour.astype(str)).dt.strftime(\"%Y-%m-%d %H:%M:%S\")\n",
    "pd.get_dummies(df_aux, columns = ['sentiment']).groupby('time').sum()"
   ],
   "metadata": {
    "collapsed": false,
    "pycharm": {
     "name": "#%%\n"
    }
   }
  }
 ],
 "metadata": {
  "kernelspec": {
   "display_name": "Python 3",
   "language": "python",
   "name": "python3"
  },
  "language_info": {
   "codemirror_mode": {
    "name": "ipython",
    "version": 2
   },
   "file_extension": ".py",
   "mimetype": "text/x-python",
   "name": "python",
   "nbconvert_exporter": "python",
   "pygments_lexer": "ipython2",
   "version": "2.7.6"
  }
 },
 "nbformat": 4,
 "nbformat_minor": 0
}